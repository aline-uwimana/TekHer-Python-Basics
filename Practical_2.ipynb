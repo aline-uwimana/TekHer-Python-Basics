{
 "cells": [
  {
   "cell_type": "markdown",
   "id": "d68c1dee",
   "metadata": {},
   "source": [
    "# Practical_2: String and files"
   ]
  },
  {
   "cell_type": "markdown",
   "id": "83dec291-913e-41b3-bc91-9457b2931bed",
   "metadata": {},
   "source": [
    "### Exercise 1:¶\r\n",
    "Create a string variable text and assign it the value \"Python is amazing!\"."
   ]
  },
  {
   "cell_type": "code",
   "execution_count": 2,
   "id": "d635d44f-e762-4ff5-b873-41c08dd1cd1d",
   "metadata": {},
   "outputs": [
    {
     "data": {
      "text/plain": [
       "'Python is amazing!'"
      ]
     },
     "execution_count": 2,
     "metadata": {},
     "output_type": "execute_result"
    }
   ],
   "source": [
    "text ='Python is amazing!'\n",
    "text"
   ]
  },
  {
   "cell_type": "markdown",
   "id": "14e8b5d9-d6a4-40d9-8795-7be32ac95cc8",
   "metadata": {},
   "source": [
    "### Exercise 2:\n",
    "Find the length of the string `\"Hello, World!\"` and store it in a variable `length`."
   ]
  },
  {
   "cell_type": "code",
   "execution_count": 1,
   "id": "37bf9531-9024-4862-bd10-9d67d4e6cc4a",
   "metadata": {},
   "outputs": [
    {
     "data": {
      "text/plain": [
       "13"
      ]
     },
     "execution_count": 1,
     "metadata": {},
     "output_type": "execute_result"
    }
   ],
   "source": [
    "length = len(\"Hello, World!\")\n",
    "length"
   ]
  },
  {
   "cell_type": "markdown",
   "id": "40c60ce2-d8cc-4301-aaa8-6a85dc93b082",
   "metadata": {},
   "source": [
    "Exercise 3:\n",
    "Convert the string \"python programming\" to uppercase and store it in a variable upper_text"
   ]
  },
  {
   "cell_type": "code",
   "execution_count": 2,
   "id": "e9d2feed-d14e-49d4-b45d-6fcdf29ba0f2",
   "metadata": {},
   "outputs": [
    {
     "data": {
      "text/plain": [
       "'PYTHON PROGRAMMING'"
      ]
     },
     "execution_count": 2,
     "metadata": {},
     "output_type": "execute_result"
    }
   ],
   "source": [
    "upper_text = \"python programming\".upper()\n",
    "upper_text"
   ]
  },
  {
   "cell_type": "markdown",
   "id": "1ac7487f-8305-4eb8-9a50-8eadb99fb12e",
   "metadata": {},
   "source": [
    "### Exercise 4:\n",
    "Extract the first 5 characters from the string `\"Artificial Intelligence\"`."
   ]
  },
  {
   "cell_type": "code",
   "execution_count": 3,
   "id": "639848cc-b35d-40ca-b4f5-b8e5e6f756f2",
   "metadata": {},
   "outputs": [
    {
     "data": {
      "text/plain": [
       "'Artif'"
      ]
     },
     "execution_count": 3,
     "metadata": {},
     "output_type": "execute_result"
    }
   ],
   "source": [
    "first_five = \"Artificial Intelligence\"[:5]\n",
    "first_five"
   ]
  },
  {
   "cell_type": "markdown",
   "id": "d3e8075d-3c4a-434f-9d88-71dce7814a33",
   "metadata": {},
   "source": [
    "### Exercise 5:\n",
    "Concatenate the strings `\"Hello\"` and `\"World\"` with a space in between."
   ]
  },
  {
   "cell_type": "code",
   "execution_count": 4,
   "id": "e6360352-0575-4849-b2eb-67915ad041a8",
   "metadata": {},
   "outputs": [
    {
     "data": {
      "text/plain": [
       "'Hello World'"
      ]
     },
     "execution_count": 4,
     "metadata": {},
     "output_type": "execute_result"
    }
   ],
   "source": [
    "concatenated = \"Hello\" + \" \" + \"World\"\n",
    "concatenated"
   ]
  },
  {
   "cell_type": "markdown",
   "id": "476cfdfa-801c-4609-bffc-c54cd728f2e3",
   "metadata": {},
   "source": [
    "### Exercise 6:\n",
    "Replace the word `\"dog\"` with `\"cat\"` in the string `\"The quick brown dog jumps over the lazy dog.\"`.\n"
   ]
  },
  {
   "cell_type": "code",
   "execution_count": 5,
   "id": "98803434-2659-4e51-a64e-16a60681b6c3",
   "metadata": {},
   "outputs": [
    {
     "data": {
      "text/plain": [
       "'The quick brown cat jumps over the lazy cat.'"
      ]
     },
     "execution_count": 5,
     "metadata": {},
     "output_type": "execute_result"
    }
   ],
   "source": [
    "replaced = \"The quick brown dog jumps over the lazy dog.\".replace(\"dog\", \"cat\")\n",
    "replaced"
   ]
  },
  {
   "cell_type": "markdown",
   "id": "df7c52b7-9149-4f8d-962e-f74838666c48",
   "metadata": {},
   "source": [
    "### Exercise 7:\n",
    "Split the string `\"apple,banana,orange\"` by commas and store the result in a list `fruits_list`.\n"
   ]
  },
  {
   "cell_type": "code",
   "execution_count": 6,
   "id": "f71f418d-626a-4344-a532-f187e2a7a104",
   "metadata": {},
   "outputs": [
    {
     "data": {
      "text/plain": [
       "['apple', 'banana', 'orange']"
      ]
     },
     "execution_count": 6,
     "metadata": {},
     "output_type": "execute_result"
    }
   ],
   "source": [
    "fruits_list = \"apple,banana,orange\".split(\",\")\n",
    "fruits_list"
   ]
  },
  {
   "cell_type": "markdown",
   "id": "b034be8a-f8b1-41f6-803c-62fd946aa40c",
   "metadata": {},
   "source": [
    "### Exercise 8:\n",
    "Use string formatting to create the sentence `\"My name is Alice and I am 25 years old.\"`, where the name and age are variables.\n"
   ]
  },
  {
   "cell_type": "code",
   "execution_count": 7,
   "id": "359fd64c-e107-493d-abfb-86236dbdf26d",
   "metadata": {},
   "outputs": [],
   "source": [
    "name = \"Alice\"\n",
    "age = 25\n",
    "sentence = f\"My name is {name} and I am {age} years old.\""
   ]
  },
  {
   "cell_type": "markdown",
   "id": "712cc9c4-ebf2-457f-b2de-38c018ccf9e5",
   "metadata": {},
   "source": [
    "### Exercise 9:\n",
    "Check if the string `\"python\"` is present in the sentence `\"I love python programming\"`.\n"
   ]
  },
  {
   "cell_type": "code",
   "execution_count": 8,
   "id": "6293ebf7-549a-4bbf-90cb-886e91796ed6",
   "metadata": {},
   "outputs": [
    {
     "data": {
      "text/plain": [
       "True"
      ]
     },
     "execution_count": 8,
     "metadata": {},
     "output_type": "execute_result"
    }
   ],
   "source": [
    "is_present = \"python\" in \"I love python programming\"\n",
    "is_present"
   ]
  },
  {
   "cell_type": "markdown",
   "id": "b185915a-5bd7-47bc-8d7f-6c22a7d1a4ed",
   "metadata": {},
   "source": [
    "### Exercise 10:\n",
    "Count the number of occurrences of the letter `\"e\"` in the string `\"Elephant is an elegant animal\"`.\n"
   ]
  },
  {
   "cell_type": "code",
   "execution_count": 9,
   "id": "e98a6386-492d-4d3a-b0a1-e30aa415fb04",
   "metadata": {},
   "outputs": [
    {
     "data": {
      "text/plain": [
       "3"
      ]
     },
     "execution_count": 9,
     "metadata": {},
     "output_type": "execute_result"
    }
   ],
   "source": [
    "count_e = \"Elephant is an elegant animal\".count(\"e\")\n",
    "count_e"
   ]
  },
  {
   "cell_type": "markdown",
   "id": "3a900d7a-f415-43cf-9813-8230682b20ee",
   "metadata": {},
   "source": [
    "### Exercise 11:\n",
    "Remove any leading and trailing spaces from the string `\"   Data Science   \"`.\n"
   ]
  },
  {
   "cell_type": "code",
   "execution_count": 11,
   "id": "2b1a857f-9a62-44fa-8879-1807ee6d7d0c",
   "metadata": {},
   "outputs": [
    {
     "data": {
      "text/plain": [
       "'Data Science'"
      ]
     },
     "execution_count": 11,
     "metadata": {},
     "output_type": "execute_result"
    }
   ],
   "source": [
    "trimmed = \"   Data Science   \".strip()\n",
    "trimmed"
   ]
  },
  {
   "cell_type": "markdown",
   "id": "e79c9f84-d995-4491-b693-5469e5719ad7",
   "metadata": {},
   "source": [
    "### Exercise 12:\n",
    "Convert the string `\"100\"` into an integer and store it in a variable `int_value`.\n"
   ]
  },
  {
   "cell_type": "code",
   "execution_count": 12,
   "id": "100cc45b-77a2-4748-b31b-7314b0072d17",
   "metadata": {},
   "outputs": [
    {
     "data": {
      "text/plain": [
       "100"
      ]
     },
     "execution_count": 12,
     "metadata": {},
     "output_type": "execute_result"
    }
   ],
   "source": [
    "int_value = int(\"100\")\n",
    "int_value"
   ]
  },
  {
   "cell_type": "markdown",
   "id": "cb824edb-2769-4179-9b2d-7a7acbadb588",
   "metadata": {},
   "source": [
    "### Exercise 13:\n",
    "Extract the substring `\"pro\"` from the string `\"programming\"`.\n"
   ]
  },
  {
   "cell_type": "code",
   "execution_count": 13,
   "id": "a79a5637-60f6-4252-a9ab-97422d9c6257",
   "metadata": {},
   "outputs": [
    {
     "data": {
      "text/plain": [
       "'pro'"
      ]
     },
     "execution_count": 13,
     "metadata": {},
     "output_type": "execute_result"
    }
   ],
   "source": [
    "substring = \"programming\"[0:3]  # or \"programming\"[:3]\n",
    "substring"
   ]
  },
  {
   "cell_type": "markdown",
   "id": "bea38749-3edc-4f76-927e-5ef7f3b63461",
   "metadata": {},
   "source": [
    "### Exercise 14:\n",
    "Check if the string `\"data\"` starts with `\"da\"` and ends with `\"ta\"`.\n"
   ]
  },
  {
   "cell_type": "code",
   "execution_count": 14,
   "id": "cdd59750-49e4-4bd0-9532-fad911f47d61",
   "metadata": {},
   "outputs": [
    {
     "name": "stdout",
     "output_type": "stream",
     "text": [
      "Starts with 'da': True, Ends with 'ta': True\n"
     ]
    }
   ],
   "source": [
    "starts_with = \"data\".startswith(\"da\")\n",
    "ends_with = \"data\".endswith(\"ta\")\n",
    "print(f\"Starts with 'da': {starts_with}, Ends with 'ta': {ends_with}\")"
   ]
  },
  {
   "cell_type": "markdown",
   "id": "16853090-c51d-4e17-a8e0-59510a5b51bd",
   "metadata": {},
   "source": [
    "### Exercise 15:\n",
    "Reverse the string `\"machine learning\"` and store the result in `reversed_text`.\n"
   ]
  },
  {
   "cell_type": "code",
   "execution_count": 15,
   "id": "b5ddc37a-8eb5-4dbd-ba14-5f58ae2cf11f",
   "metadata": {},
   "outputs": [
    {
     "data": {
      "text/plain": [
       "'gninrael enihcam'"
      ]
     },
     "execution_count": 15,
     "metadata": {},
     "output_type": "execute_result"
    }
   ],
   "source": [
    "reversed_text = \"machine learning\"[::-1]\n",
    "reversed_text"
   ]
  },
  {
   "cell_type": "markdown",
   "id": "01f701fc-95d0-4f91-94bb-bae85f43d1d6",
   "metadata": {},
   "source": [
    "### Exercise 16:\n",
    "Convert the first letter of each word in the string `\"machine learning is fun\"` to uppercase.\n"
   ]
  },
  {
   "cell_type": "code",
   "execution_count": 16,
   "id": "e6b3bfa4-259a-4186-97f5-7ee4ae69ea75",
   "metadata": {},
   "outputs": [
    {
     "data": {
      "text/plain": [
       "'Machine Learning Is Fun'"
      ]
     },
     "execution_count": 16,
     "metadata": {},
     "output_type": "execute_result"
    }
   ],
   "source": [
    "capitalized = \"machine learning is fun\".title()\n",
    "capitalized"
   ]
  },
  {
   "cell_type": "markdown",
   "id": "fd1edee0-9178-4207-b609-0abdea4730cc",
   "metadata": {},
   "source": [
    "### Exercise 17:\n",
    "Create a multiline string representing a poem and store it in a variable `poem`.\n"
   ]
  },
  {
   "cell_type": "code",
   "execution_count": 17,
   "id": "9f7272c2-82a5-4d8b-b87e-993b7ee2c566",
   "metadata": {},
   "outputs": [
    {
     "name": "stdout",
     "output_type": "stream",
     "text": [
      "Roses are red,\n",
      "Violets are blue,\n",
      "Python is awesome,\n",
      "And so are you!\n"
     ]
    }
   ],
   "source": [
    "poem = \"\"\"Roses are red,\n",
    "Violets are blue,\n",
    "Python is awesome,\n",
    "And so are you!\"\"\"\n",
    "print(poem)"
   ]
  },
  {
   "cell_type": "markdown",
   "id": "f67b6244-ce47-4112-884d-0082d5d63a12",
   "metadata": {},
   "source": [
    "### Exercise 18:\n",
    "Write a string to a file named `\"output.txt\"`."
   ]
  },
  {
   "cell_type": "code",
   "execution_count": 19,
   "id": "df198ad4-4359-4c85-b334-8a972f0de833",
   "metadata": {},
   "outputs": [],
   "source": [
    "import os"
   ]
  },
  {
   "cell_type": "code",
   "execution_count": 54,
   "id": "c69867fe-2532-4da0-b016-6beb4898dfe0",
   "metadata": {},
   "outputs": [
    {
     "name": "stdout",
     "output_type": "stream",
     "text": [
      "📁 Now running in: C:\\Users\\educa\\Desktop\\class\\python\\TekHer-Python-Basics\\data\n"
     ]
    }
   ],
   "source": [
    "import os\n",
    "\n",
    "# Set to your desired path\n",
    "os.chdir(r\"C:\\Users\\educa\\Desktop\\class\\python\\TekHer-Python-Basics\\data\")\n",
    "\n",
    "# Confirm the new location\n",
    "print(\"📁 Now running in:\", os.getcwd())\n"
   ]
  },
  {
   "cell_type": "code",
   "execution_count": 56,
   "id": "0863ab9d-3119-4906-91e4-071413c7cc5b",
   "metadata": {},
   "outputs": [
    {
     "name": "stdout",
     "output_type": "stream",
     "text": [
      "✅ Successfully wrote string to output.txt\n"
     ]
    }
   ],
   "source": [
    "\n",
    "# Step 1: Define the file name\n",
    "file_name = \"output.txt\"\n",
    "\n",
    "# Step 2: Open the file in write mode and write a string to it\n",
    "with open(file_name, \"w\") as file:\n",
    "    file.write(\"This is a string written to a file named output.txt.\")\n",
    "\n",
    "# Step 3: Confirm the file was written\n",
    "print(f\"✅ Successfully wrote string to {file_name}\")\n"
   ]
  },
  {
   "cell_type": "markdown",
   "id": "d8a03c12-b3e2-4360-a672-e38688562100",
   "metadata": {},
   "source": [
    "### Exercise 19:\n",
    "Read the contents of a file named `\"data.txt\"` and print it line by line.\n"
   ]
  },
  {
   "cell_type": "code",
   "execution_count": 57,
   "id": "de6b8b75-dc77-4bda-b53a-7fa4c793779c",
   "metadata": {},
   "outputs": [
    {
     "name": "stdout",
     "output_type": "stream",
     "text": [
      "Name,Age,Score\n",
      "Alice,23,85\n",
      "Bob,30,90\n",
      "Charlie,25,88\n"
     ]
    }
   ],
   "source": [
    "\n",
    "file_name = \"data.txt\"\n",
    "\n",
    "try:\n",
    "    with open(file_name, \"r\") as file:\n",
    "        for line in file:\n",
    "            print(line.strip())  # .strip() removes the newline character at the end\n",
    "except FileNotFoundError:\n",
    "    print(f\"❌ File '{file_name}' not found.\")"
   ]
  },
  {
   "cell_type": "markdown",
   "id": "060bf86b-50b9-4725-aa74-c8025fa01fd0",
   "metadata": {},
   "source": [
    "### Exercise 20:\n",
    "Check if a file `\"example.txt\"` exists before opening it.\n"
   ]
  },
  {
   "cell_type": "code",
   "execution_count": 58,
   "id": "d94e9c20-0ced-45a7-92c7-6cbaaa1dcbb8",
   "metadata": {},
   "outputs": [
    {
     "name": "stdout",
     "output_type": "stream",
     "text": [
      "This is an example text file used for demonstration.\n",
      "\n"
     ]
    }
   ],
   "source": [
    "import os\n",
    "\n",
    "if os.path.exists(\"example.txt\"):\n",
    "    with open(\"example.txt\", \"r\") as file:\n",
    "        content = file.read()\n",
    "        print(content)\n",
    "else:\n",
    "    print(\"File 'example.txt' does not exist.\")"
   ]
  },
  {
   "cell_type": "markdown",
   "id": "8945baf4-0b77-48b8-a5ec-261e42d6aa4b",
   "metadata": {},
   "source": [
    "### Exercise 21:\n",
    "Append a new line `\"This is a new line\"` to an existing file `\"notes.txt\"`.\n"
   ]
  },
  {
   "cell_type": "code",
   "execution_count": 6,
   "id": "fed1a37c-42f5-4ede-b48d-bf2e99e2cb73",
   "metadata": {},
   "outputs": [
    {
     "name": "stdout",
     "output_type": "stream",
     "text": [
      "📁 Now running in: C:\\Users\\educa\\Desktop\\class\\python\\TekHer-Python-Basics\\data\n"
     ]
    }
   ],
   "source": [
    "import os\n",
    "\n",
    "# Set to your desired path\n",
    "os.chdir(r\"C:\\Users\\educa\\Desktop\\class\\python\\TekHer-Python-Basics\\data\")\n",
    "\n",
    "# Confirm the new location\n",
    "print(\"📁 Now running in:\", os.getcwd())\n"
   ]
  },
  {
   "cell_type": "code",
   "execution_count": 8,
   "id": "f92ba131-529a-41c9-a5eb-3cfbf74b3582",
   "metadata": {},
   "outputs": [
    {
     "name": "stdout",
     "output_type": "stream",
     "text": [
      "notes.txt\n",
      "Python is a versatile language.\n",
      "Great for data analysis.\n",
      "\n",
      "This is a new line\n"
     ]
    }
   ],
   "source": [
    "with open(\"notes.txt\", \"a\") as file:  # \"a\" mode means append\n",
    "    file.write(\"\\nThis is a new line\")\n",
    "    print('notes.txt')\n",
    "\n",
    "with open(\"notes.txt\", \"r\") as file:\n",
    "    content = file.read()\n",
    "print(content)"
   ]
  },
  {
   "cell_type": "markdown",
   "id": "e434a20a-0898-43e1-b1cc-0fbe520edd36",
   "metadata": {},
   "source": [
    "### Exercise 22:\n",
    "Read the contents of a file `\"log.txt\"` and store each line in a list `log_lines`.\n"
   ]
  },
  {
   "cell_type": "code",
   "execution_count": 11,
   "id": "0607d438-4c9b-413f-901b-39595e757669",
   "metadata": {},
   "outputs": [
    {
     "name": "stdout",
     "output_type": "stream",
     "text": [
      "['2024-05-20 10:00:00 INFO Program started\\n', '2024-05-20 10:05:00 ERROR Invalid input\\n']\n"
     ]
    }
   ],
   "source": [
    "# Read each line of the file into a list\n",
    "with open(\"log.txt\", \"r\") as file:\n",
    "    log_lines = file.readlines()\n",
    "\n",
    "# Optional: Print the list to confirm\n",
    "print(log_lines)"
   ]
  },
  {
   "cell_type": "markdown",
   "id": "40797246-f05d-406f-bd98-f87669805ccf",
   "metadata": {},
   "source": [
    "### Exercise 23:\n",
    "Create a new file `\"report.txt\"` and write the string `\"Data analysis report\"` to it.\n"
   ]
  },
  {
   "cell_type": "code",
   "execution_count": 12,
   "id": "4762dafd-8cc5-4ea7-8970-236d66d10f99",
   "metadata": {},
   "outputs": [],
   "source": [
    "with open(\"report.txt\", \"w\") as file:\n",
    "    file.write(\"Data analysis report\")"
   ]
  },
  {
   "cell_type": "markdown",
   "id": "a016bb8f-a061-461b-b3a2-b5591f54a1db",
   "metadata": {},
   "source": [
    "### Exercise 24:\n",
    "Replace the word `\"error\"` with `\"issue\"` in a file `\"log.txt\"`."
   ]
  },
  {
   "cell_type": "code",
   "execution_count": 27,
   "id": "edd2c4c8-419b-4efb-a227-c0d94383e011",
   "metadata": {},
   "outputs": [
    {
     "name": "stdout",
     "output_type": "stream",
     "text": [
      "📁 Now running in: C:\\Users\\educa\\Desktop\\class\\python\\TekHer-Python-Basics\\data\n"
     ]
    }
   ],
   "source": [
    "import os\n",
    "\n",
    "# Set to your desired path\n",
    "os.chdir(r\"C:\\Users\\educa\\Desktop\\class\\python\\TekHer-Python-Basics\\data\")\n",
    "\n",
    "# Confirm the new location\n",
    "print(\"📁 Now running in:\", os.getcwd())\n"
   ]
  },
  {
   "cell_type": "code",
   "execution_count": 31,
   "id": "c0526afe-2fbb-4911-802d-4e5f5beafb56",
   "metadata": {},
   "outputs": [
    {
     "ename": "SyntaxError",
     "evalue": "unmatched ')' (3839775419.py, line 8)",
     "output_type": "error",
     "traceback": [
      "\u001b[1;36m  Cell \u001b[1;32mIn[31], line 8\u001b[1;36m\u001b[0m\n\u001b[1;33m    file.write(updated_content)tent)\u001b[0m\n\u001b[1;37m                                   ^\u001b[0m\n\u001b[1;31mSyntaxError\u001b[0m\u001b[1;31m:\u001b[0m unmatched ')'\n"
     ]
    }
   ],
   "source": [
    "with open(\"log.txt\", \"r\") as file:\n",
    "    content = file.read()\n",
    "\n",
    "# Replace \"ERROR\" with \"ISSUE\"\n",
    "updated_content = content.replace(\"ERROR\", \"ISSUE\")\n",
    "\n",
    "with open(\"log.txt\", \"w\") as file:\n",
    "    file.write(updated_content)tent)\r\n"
   ]
  },
  {
   "cell_type": "markdown",
   "id": "0f77e37e-444e-4c94-b887-3607fd1c2df2",
   "metadata": {},
   "source": [
    "### Exercise 25:\n",
    "Count the number of words in a text file `\"document.txt\"`."
   ]
  },
  {
   "cell_type": "code",
   "execution_count": 32,
   "id": "32caf00f-7a6b-4d89-8908-dff1bb146ed4",
   "metadata": {},
   "outputs": [
    {
     "name": "stdout",
     "output_type": "stream",
     "text": [
      "Word count: 12\n"
     ]
    }
   ],
   "source": [
    "with open(\"document.txt\", \"r\") as file:\r\n",
    "    content = file.read()\r\n",
    "\r\n",
    "word_count = len(content.split())\r\n",
    "print(\"Word count:\", word_count)\r\n"
   ]
  },
  {
   "cell_type": "markdown",
   "id": "b3adf771-0a7b-4535-a793-aa4ea5e2753e",
   "metadata": {},
   "source": [
    "### Exercise 26:\n",
    "Write a Python script that reads a file `\"essay.txt\"` and prints the total number of lines, words, and characters."
   ]
  },
  {
   "cell_type": "markdown",
   "id": "79cdaab2-3310-4219-bbb5-f09f47d0c6aa",
   "metadata": {},
   "source": [
    "### Exercise 27:\n",
    "Copy the contents of one file `\"source.txt\"` to another file `\"destination.txt\"`.\n"
   ]
  },
  {
   "cell_type": "markdown",
   "id": "b11a1a4e-526a-4823-882d-7d771dec5765",
   "metadata": {},
   "source": [
    "### Exercise 28:\n",
    "Write a Python function that takes a filename as input and returns the number of lines in the file.\n"
   ]
  },
  {
   "cell_type": "markdown",
   "id": "cff3e007-ca2d-4a91-8c4c-bce6a98d0d5b",
   "metadata": {},
   "source": [
    "### Exercise 29:\n",
    "Extract all the words from a text file `\"article.txt\"` that contain more than 5 characters.\n"
   ]
  },
  {
   "cell_type": "markdown",
   "id": "0be12628-eab9-4216-bac4-f0c31bbb7668",
   "metadata": {},
   "source": [
    "### Exercise 30:\n",
    "Convert the contents of a file `\"notes.txt\"` to uppercase and save the result in another file `\"uppercase_notes.txt\"`.\n"
   ]
  },
  {
   "cell_type": "markdown",
   "id": "f8129d4a-651c-4445-a12c-09f17392e0ac",
   "metadata": {},
   "source": [
    "### Exercise 31:\n",
    "Write a Python script that reads a file and removes all empty lines.\n"
   ]
  },
  {
   "cell_type": "markdown",
   "id": "a825c8fa-76b3-47b9-a8a4-2abf0cf62a5a",
   "metadata": {},
   "source": [
    "### Exercise 32:\n",
    "Open a file `\"config.txt\"` in both read and write mode.\n"
   ]
  },
  {
   "cell_type": "markdown",
   "id": "e8bf4f22-5a2d-46a6-ab69-a63f35d5b1ae",
   "metadata": {},
   "source": [
    "### Exercise 33:\n",
    "Write a Python function that reads a file and prints the longest line in the file.\n"
   ]
  },
  {
   "cell_type": "markdown",
   "id": "cf1af883-884f-4dff-a0d3-ec9f88eca2ac",
   "metadata": {},
   "source": [
    "### Exercise 34:\n",
    "Write a Python script to count the frequency of each letter in a text file `\"message.txt\"`.\n"
   ]
  },
  {
   "cell_type": "markdown",
   "id": "508d54b5-afab-4244-8f29-a3eb983bbd7d",
   "metadata": {},
   "source": [
    "### Exercise 35:\n",
    "Write a Python script that reads a file and prints the total number of characters, excluding spaces.\n"
   ]
  },
  {
   "cell_type": "markdown",
   "id": "9eafe24e-fbca-405a-ab11-518aac25723b",
   "metadata": {},
   "source": [
    "### Exercise 36:\n",
    "Create a Python script to check whether a file is empty or not."
   ]
  },
  {
   "cell_type": "markdown",
   "id": "026c0311-0eba-4fbc-8356-dc56da7cfecf",
   "metadata": {},
   "source": [
    "### Exercise 37:\n",
    "Write a Python function that reads a file and removes all punctuation marks from the text.\n"
   ]
  },
  {
   "cell_type": "markdown",
   "id": "f3c53c31-b6c0-48f3-a4e1-57b896a6ca95",
   "metadata": {},
   "source": [
    "### Exercise 38:\n",
    "Create a Python function that writes a list of strings to a file, each string on a new line.\n"
   ]
  },
  {
   "cell_type": "markdown",
   "id": "243ba473-91fa-4d2c-9ce5-8043cbcf5892",
   "metadata": {},
   "source": [
    "### Exercise 39:\n",
    "Write a Python script to count the number of lines that start with a specific letter (e.g., \"A\") in a text file.\n"
   ]
  },
  {
   "cell_type": "markdown",
   "id": "73210300-4319-4567-a89c-2bcbb15b535a",
   "metadata": {},
   "source": [
    "### Exercise 40:\n",
    "Write a Python function that takes a string as input and writes it to a file `\"output.txt\"` in reverse order.\n"
   ]
  },
  {
   "cell_type": "markdown",
   "id": "a6a1793e-5670-4239-b3d3-14190b951f77",
   "metadata": {},
   "source": [
    "### Exercise 41:\n",
    "Write a Python script that reads a file and prints all the lines that contain the word `\"Python\"`.\n"
   ]
  },
  {
   "cell_type": "markdown",
   "id": "632fa06f-8544-42bc-959c-a3381f1f31ad",
   "metadata": {},
   "source": [
    "### Exercise 42:\n",
    "Write a Python script that opens a file and removes all numeric digits from the file's content.\n"
   ]
  },
  {
   "cell_type": "markdown",
   "id": "d8b5ab9a-0595-4d47-9021-ae28b39f574c",
   "metadata": {},
   "source": [
    "### Exercise 43:\n",
    "Write a Python script to find the most frequent word in a text file `\"book.txt\"`.\n"
   ]
  },
  {
   "cell_type": "markdown",
   "id": "7692847d-bb24-4dcb-839c-c06eada95941",
   "metadata": {},
   "source": [
    "### Exercise 44:\n",
    "Write a Python script that reads a file and prints all the lines that contain exactly 5 words.\n"
   ]
  },
  {
   "cell_type": "markdown",
   "id": "9caa6660-7f9b-4e07-93b8-a83d03ec64a1",
   "metadata": {},
   "source": [
    "### Exercise 45:\n",
    "Write a Python script to read a file and print the first and last line of the file.\n"
   ]
  },
  {
   "cell_type": "markdown",
   "id": "fcb46cea-4de7-4f07-b9d3-5b36deb7a6f6",
   "metadata": {},
   "source": [
    "### Exercise 46:\n",
    "Write a Python script that checks if a file `\"students.txt\"` is writable.\n"
   ]
  },
  {
   "cell_type": "markdown",
   "id": "c3d446f6-bc9a-4672-9e79-414d77780b8b",
   "metadata": {},
   "source": [
    "### Exercise 47:\n",
    "Create a Python function that opens a file and returns the number of unique words in the file.\n"
   ]
  },
  {
   "cell_type": "markdown",
   "id": "9bd0eff6-6fa3-4a19-8f73-aa01655c0efe",
   "metadata": {},
   "source": [
    "### Exercise 48:\n",
    "Write a Python script that reads a file and prints all lines in reverse order."
   ]
  },
  {
   "cell_type": "markdown",
   "id": "0ab97073-937b-4600-b1ef-ed215fa963a5",
   "metadata": {},
   "source": [
    "### Exercise 49:\n",
    "Write a Python function that reads a file and returns the most common letter in the text.\n"
   ]
  },
  {
   "cell_type": "markdown",
   "id": "5c68ae3d-8a63-4bbe-984b-fe4595a57ca0",
   "metadata": {},
   "source": [
    "### Exercise 50:\n",
    "Write a Python script that reads a file and replaces every occurrence of `\"Python\"` with `\"Java\"`.\n"
   ]
  },
  {
   "cell_type": "code",
   "execution_count": null,
   "id": "dcf6ca38",
   "metadata": {},
   "outputs": [],
   "source": []
  }
 ],
 "metadata": {
  "kernelspec": {
   "display_name": "Python 3 (ipykernel)",
   "language": "python",
   "name": "python3"
  },
  "language_info": {
   "codemirror_mode": {
    "name": "ipython",
    "version": 3
   },
   "file_extension": ".py",
   "mimetype": "text/x-python",
   "name": "python",
   "nbconvert_exporter": "python",
   "pygments_lexer": "ipython3",
   "version": "3.11.7"
  }
 },
 "nbformat": 4,
 "nbformat_minor": 5
}
