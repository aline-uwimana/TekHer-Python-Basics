{
 "cells": [
  {
   "cell_type": "markdown",
   "id": "426486dd",
   "metadata": {},
   "source": [
    "# Practical_1: Variables and Assignments"
   ]
  },
  {
   "cell_type": "markdown",
   "id": "30160c6d-60b3-4127-8b57-f3ab4be5ab2a",
   "metadata": {},
   "source": [
    "# Exercise 1 : daclare a valiable x and assign it the value '10'\n"
   ]
  },
  {
   "cell_type": "code",
   "execution_count": 11,
   "id": "5936332a-0706-4a6e-a5a2-3ba0beea5737",
   "metadata": {},
   "outputs": [
    {
     "data": {
      "text/plain": [
       "10"
      ]
     },
     "execution_count": 11,
     "metadata": {},
     "output_type": "execute_result"
    }
   ],
   "source": [
    "x=10\n",
    "x"
   ]
  },
  {
   "cell_type": "markdown",
   "id": "6bfd4338-f43a-4bce-b7d5-5606066d46db",
   "metadata": {},
   "source": [
    "### Exercise 2: Assign the value `True` to a variable called `is_valid`."
   ]
  },
  {
   "cell_type": "code",
   "execution_count": 5,
   "id": "d548f8f5-f9c6-452e-998f-a65370b2d917",
   "metadata": {},
   "outputs": [
    {
     "data": {
      "text/plain": [
       "True"
      ]
     },
     "execution_count": 5,
     "metadata": {},
     "output_type": "execute_result"
    }
   ],
   "source": [
    "is_valid = True\n",
    "is_valid"
   ]
  },
  {
   "cell_type": "markdown",
   "id": "edff8c46-1d3c-4a15-bb79-67783b1747b8",
   "metadata": {},
   "source": [
    "### Exercise 3: Create a string variable `name` with the value \"Python Programming\"."
   ]
  },
  {
   "cell_type": "code",
   "execution_count": 2,
   "id": "4a5e1e30-779f-4ff4-b383-58ca706449d9",
   "metadata": {},
   "outputs": [
    {
     "data": {
      "text/plain": [
       "'Python Programming'"
      ]
     },
     "execution_count": 2,
     "metadata": {},
     "output_type": "execute_result"
    }
   ],
   "source": [
    "name = \"Python Programming\"\n",
    "name"
   ]
  },
  {
   "cell_type": "markdown",
   "id": "c027d2eb-09db-45d8-b3d1-47d11edabf94",
   "metadata": {},
   "source": [
    "### Exercise 4: Assign the result of `5 + 3` to a variable `sum_result`.\n"
   ]
  },
  {
   "cell_type": "code",
   "execution_count": 9,
   "id": "b71e4ff5-a752-417e-b7f8-97a2a3c82c8e",
   "metadata": {},
   "outputs": [
    {
     "data": {
      "text/plain": [
       "8"
      ]
     },
     "execution_count": 9,
     "metadata": {},
     "output_type": "execute_result"
    }
   ],
   "source": [
    "sum_result = 5 + 3\n",
    "sum_result"
   ]
  },
  {
   "cell_type": "markdown",
   "id": "2ee12f4b-6af3-4f8f-831a-2bc09fe60f60",
   "metadata": {},
   "source": [
    "### Exercise 5:\n",
    "Assign multiple variables in one line: `a = 5`, `b = 10`, `c = 15`."
   ]
  },
  {
   "cell_type": "code",
   "execution_count": 4,
   "id": "bda7bd33-4f0f-4632-9431-0b9f48633c58",
   "metadata": {},
   "outputs": [
    {
     "name": "stdout",
     "output_type": "stream",
     "text": [
      "5 10 15\n"
     ]
    }
   ],
   "source": [
    "a, b, c = 5, 10, 15\n",
    "print(a,b,c)"
   ]
  },
  {
   "cell_type": "markdown",
   "id": "eb66839b-5a72-4893-a925-cd31277aff4c",
   "metadata": {},
   "source": [
    "### Exercise 6:\n",
    "Assign the value of one variable `x` to another variable `y`."
   ]
  },
  {
   "cell_type": "code",
   "execution_count": 12,
   "id": "d0ec1f88-ebba-429e-890f-9934f20c9fb0",
   "metadata": {},
   "outputs": [
    {
     "data": {
      "text/plain": [
       "10"
      ]
     },
     "execution_count": 12,
     "metadata": {},
     "output_type": "execute_result"
    }
   ],
   "source": [
    "y = x\n",
    "y"
   ]
  },
  {
   "cell_type": "markdown",
   "id": "c4424c02-7c27-4acf-bb6b-e6a3a7a82df7",
   "metadata": {},
   "source": [
    "### Exercise 7:\n",
    "Assign a floating-point number `9.8` to a variable `gravity`."
   ]
  },
  {
   "cell_type": "code",
   "execution_count": 12,
   "id": "2873ed57-29bb-435c-aeb9-3b823277fa5e",
   "metadata": {},
   "outputs": [
    {
     "data": {
      "text/plain": [
       "9.8"
      ]
     },
     "execution_count": 12,
     "metadata": {},
     "output_type": "execute_result"
    }
   ],
   "source": [
    "gravity = 9.8\n",
    "gravity"
   ]
  },
  {
   "cell_type": "markdown",
   "id": "c8279711-03ce-4f8e-9a17-5167c2d0b84c",
   "metadata": {},
   "source": [
    "### Exercise 8:\n",
    "Create a variable `country` and assign it the string value of your favorite country."
   ]
  },
  {
   "cell_type": "code",
   "execution_count": 14,
   "id": "f3d6ffdd-169e-4565-be70-ee7f96889929",
   "metadata": {},
   "outputs": [
    {
     "data": {
      "text/plain": [
       "'Rwanda'"
      ]
     },
     "execution_count": 14,
     "metadata": {},
     "output_type": "execute_result"
    }
   ],
   "source": [
    "country = \"Rwanda\"\n",
    "country"
   ]
  },
  {
   "cell_type": "markdown",
   "id": "548d4e59-fac5-4e6e-9a69-bc0cabb69af0",
   "metadata": {},
   "source": [
    "### Exercise 9:\n",
    "Change the value of variable `age` from `25` to `26` in two separate steps."
   ]
  },
  {
   "cell_type": "code",
   "execution_count": 15,
   "id": "e5b7ee1c-0860-403c-a475-38080e63e82d",
   "metadata": {},
   "outputs": [
    {
     "data": {
      "text/plain": [
       "26"
      ]
     },
     "execution_count": 15,
     "metadata": {},
     "output_type": "execute_result"
    }
   ],
   "source": [
    "age = 25\n",
    "age = 26\n",
    "age"
   ]
  },
  {
   "cell_type": "markdown",
   "id": "2368d0ae-3af7-47aa-91e7-c07aea3da130",
   "metadata": {},
   "source": [
    "### Exercise 10:\n",
    "Use one variable to store the result of subtracting two numbers `20 - 7`."
   ]
  },
  {
   "cell_type": "code",
   "execution_count": 16,
   "id": "515e2d1c-ad79-4db4-affb-c66cade544b5",
   "metadata": {},
   "outputs": [
    {
     "data": {
      "text/plain": [
       "13"
      ]
     },
     "execution_count": 16,
     "metadata": {},
     "output_type": "execute_result"
    }
   ],
   "source": [
    "difference = 20 - 7\n",
    "difference"
   ]
  },
  {
   "cell_type": "markdown",
   "id": "60fb666a-ac91-4624-ab77-ead7ef43ab95",
   "metadata": {},
   "source": [
    "### Exercise 11:\n",
    "Assign an integer value and a floating-point value to two different variables."
   ]
  },
  {
   "cell_type": "code",
   "execution_count": 21,
   "id": "c8a1186d-db7a-4ca8-a1bb-40a110d62659",
   "metadata": {},
   "outputs": [
    {
     "name": "stdout",
     "output_type": "stream",
     "text": [
      "42 3.14\n"
     ]
    }
   ],
   "source": [
    "integer_val = 42\n",
    "float_val = 3.14\n",
    "print(integer_val, float_val)"
   ]
  },
  {
   "cell_type": "markdown",
   "id": "66790820-62e1-42db-8db0-c5c3258f2027",
   "metadata": {},
   "source": [
    "### Exercise 12:\n",
    "Assign a boolean value `False` to a variable `is_completed`."
   ]
  },
  {
   "cell_type": "code",
   "execution_count": 22,
   "id": "af695930-2db7-4c38-9f10-3f12d6480aff",
   "metadata": {},
   "outputs": [
    {
     "data": {
      "text/plain": [
       "False"
      ]
     },
     "execution_count": 22,
     "metadata": {},
     "output_type": "execute_result"
    }
   ],
   "source": [
    "is_completed = False\n",
    "is_completed"
   ]
  },
  {
   "cell_type": "markdown",
   "id": "9e3e7bbd-b324-4856-ae86-d80375eeceb9",
   "metadata": {},
   "source": [
    "### Exercise 13:\n",
    "Swap the values of two variables `x` and `y`."
   ]
  },
  {
   "cell_type": "code",
   "execution_count": 23,
   "id": "2793b93b-70e6-460c-bfe2-5a7e6d680020",
   "metadata": {},
   "outputs": [
    {
     "name": "stdout",
     "output_type": "stream",
     "text": [
      "20 10\n"
     ]
    }
   ],
   "source": [
    "x = 10\n",
    "y = 20\n",
    "x, y = y, x\n",
    "print(x, y)"
   ]
  },
  {
   "cell_type": "markdown",
   "id": "be12da32-f9ab-44f5-aeef-878756020eb0",
   "metadata": {},
   "source": [
    "### Exercise 14:\n",
    "Assign a complex number `3 + 4j` to a variable `complex_num`.\n"
   ]
  },
  {
   "cell_type": "code",
   "execution_count": 24,
   "id": "5a7efffd-0e27-4036-b172-9b3582b1c9c2",
   "metadata": {},
   "outputs": [
    {
     "data": {
      "text/plain": [
       "(3+4j)"
      ]
     },
     "execution_count": 24,
     "metadata": {},
     "output_type": "execute_result"
    }
   ],
   "source": [
    "complex_num = 3 + 4j\n",
    "complex_num"
   ]
  },
  {
   "cell_type": "markdown",
   "id": "35176986-91c0-412b-872b-35bf4a09fcc9",
   "metadata": {},
   "source": [
    "### Exercise 15:\n",
    "Reassign a variable from an integer to a string."
   ]
  },
  {
   "cell_type": "code",
   "execution_count": 25,
   "id": "653b4e88-a620-4c94-9e33-f54591c5f2e1",
   "metadata": {},
   "outputs": [
    {
     "data": {
      "text/plain": [
       "'hundred'"
      ]
     },
     "execution_count": 25,
     "metadata": {},
     "output_type": "execute_result"
    }
   ],
   "source": [
    "num_var = 100\n",
    "num_var = \"hundred\"\n",
    "num_var"
   ]
  },
  {
   "cell_type": "markdown",
   "id": "5b0c2ee4-5cdc-4393-b9b0-f85214b9a74d",
   "metadata": {},
   "source": [
    "### Exercise 16:\n",
    "Create two variables `first_name` and `last_name`, and assign them your first and last names."
   ]
  },
  {
   "cell_type": "code",
   "execution_count": 26,
   "id": "6683a15a-7b9b-4df4-b477-4dfd699783d7",
   "metadata": {},
   "outputs": [
    {
     "name": "stdout",
     "output_type": "stream",
     "text": [
      "John Doe\n"
     ]
    }
   ],
   "source": [
    "first_name = \"John\"\n",
    "last_name = \"Doe\"\n",
    "print(first_name, last_name)"
   ]
  },
  {
   "cell_type": "markdown",
   "id": "ae4f07c9-ac9c-4599-9887-0512383c8169",
   "metadata": {},
   "source": [
    "### Exercise 17:\n",
    "Create a variable `temperature` and assign it the value of `35.5`."
   ]
  },
  {
   "cell_type": "code",
   "execution_count": 27,
   "id": "eaf3d546-22ba-40b8-b1db-183a4c040df3",
   "metadata": {},
   "outputs": [
    {
     "data": {
      "text/plain": [
       "35.5"
      ]
     },
     "execution_count": 27,
     "metadata": {},
     "output_type": "execute_result"
    }
   ],
   "source": [
    "temperature = 35.5\n",
    "temperature"
   ]
  },
  {
   "cell_type": "markdown",
   "id": "477e1ee0-7fa3-4475-9625-ae77cde1a761",
   "metadata": {},
   "source": [
    "### Exercise 18:\n",
    "Assign the result of the multiplication of two numbers `8 * 6` to a variable `product`."
   ]
  },
  {
   "cell_type": "code",
   "execution_count": 28,
   "id": "9b3151c6-dc2e-4cc7-9bf5-be598b868d8d",
   "metadata": {},
   "outputs": [
    {
     "data": {
      "text/plain": [
       "48"
      ]
     },
     "execution_count": 28,
     "metadata": {},
     "output_type": "execute_result"
    }
   ],
   "source": [
    "product = 8 * 6\n",
    "product"
   ]
  },
  {
   "cell_type": "markdown",
   "id": "55edec6a-98fc-4236-a2c2-c8c881bf87e2",
   "metadata": {},
   "source": [
    "### Exercise 19:\n",
    "Assign a sentence of your choice to a variable `sentence`."
   ]
  },
  {
   "cell_type": "code",
   "execution_count": 29,
   "id": "a40dc0a8-62a0-4c69-b80d-4f4fdf65e1d4",
   "metadata": {},
   "outputs": [
    {
     "data": {
      "text/plain": [
       "'Python is a versatile programming language.'"
      ]
     },
     "execution_count": 29,
     "metadata": {},
     "output_type": "execute_result"
    }
   ],
   "source": [
    "sentence = \"Python is a versatile programming language.\"\n",
    "sentence"
   ]
  },
  {
   "cell_type": "markdown",
   "id": "16bfb9b1-84bf-4787-a951-1d88d832c38a",
   "metadata": {},
   "source": [
    "### Exercise 20:\n",
    "Use an assignment to convert a string `'50'` into an integer variable `int_value`."
   ]
  },
  {
   "cell_type": "code",
   "execution_count": 30,
   "id": "e15537b2-170d-4133-b19b-78e5c0c4057e",
   "metadata": {},
   "outputs": [
    {
     "data": {
      "text/plain": [
       "50"
      ]
     },
     "execution_count": 30,
     "metadata": {},
     "output_type": "execute_result"
    }
   ],
   "source": [
    "int_value = int('50')\n",
    "int_value"
   ]
  },
  {
   "cell_type": "markdown",
   "id": "d6b18399-2da9-47cc-b8a5-6c54ecf192e9",
   "metadata": {},
   "source": [
    "### Exercise 21:\n",
    "Assign the result of dividing `144` by `12` to a variable `quotient`."
   ]
  },
  {
   "cell_type": "code",
   "execution_count": 31,
   "id": "10cd52d9-3023-4eb2-acd6-33053ce7ac75",
   "metadata": {},
   "outputs": [
    {
     "data": {
      "text/plain": [
       "12.0"
      ]
     },
     "execution_count": 31,
     "metadata": {},
     "output_type": "execute_result"
    }
   ],
   "source": [
    "quotient = 144 / 12\n",
    "quotient"
   ]
  },
  {
   "cell_type": "markdown",
   "id": "328cb924-ac52-4a23-8621-39c1d70a03cf",
   "metadata": {},
   "source": [
    "### Exercise 22:\n",
    "Assign the remainder of `47 divided by 5` to a variable `remainder`."
   ]
  },
  {
   "cell_type": "code",
   "execution_count": 32,
   "id": "aed11a8b-e253-484c-a0f7-43b9e1b5a153",
   "metadata": {},
   "outputs": [
    {
     "data": {
      "text/plain": [
       "2"
      ]
     },
     "execution_count": 32,
     "metadata": {},
     "output_type": "execute_result"
    }
   ],
   "source": [
    "remainder = 47 % 5\n",
    "remainder"
   ]
  },
  {
   "cell_type": "markdown",
   "id": "8c527662-fd59-4c44-8ceb-63a4eba95eb2",
   "metadata": {},
   "source": [
    "### Exercise 23:\n",
    "Create a variable `is_student` and assign it the value `True`."
   ]
  },
  {
   "cell_type": "code",
   "execution_count": 33,
   "id": "a7254273-17e4-4388-8e8e-73638c771aba",
   "metadata": {},
   "outputs": [
    {
     "data": {
      "text/plain": [
       "True"
      ]
     },
     "execution_count": 33,
     "metadata": {},
     "output_type": "execute_result"
    }
   ],
   "source": [
    "is_student = True\n",
    "is_student\n"
   ]
  },
  {
   "cell_type": "markdown",
   "id": "d2ad4318-880d-43e6-b980-67fb3133059a",
   "metadata": {},
   "source": [
    "### Exercise 24:\n",
    "Use a variable to store the result of a modulo operation: `45 % 4`."
   ]
  },
  {
   "cell_type": "code",
   "execution_count": 34,
   "id": "b7993fb6-8adf-4393-99b9-576928b42b32",
   "metadata": {},
   "outputs": [
    {
     "data": {
      "text/plain": [
       "1"
      ]
     },
     "execution_count": 34,
     "metadata": {},
     "output_type": "execute_result"
    }
   ],
   "source": [
    "modulo_result = 45 % 4\n",
    "modulo_result"
   ]
  },
  {
   "cell_type": "markdown",
   "id": "3b62f216-1117-4bde-8066-a436d10fb3bb",
   "metadata": {},
   "source": [
    "### Exercise 25:\n",
    "Create a variable `pi` and assign it the value `3.14159`."
   ]
  },
  {
   "cell_type": "code",
   "execution_count": 35,
   "id": "2b200e2c-10cb-4c61-b556-64306b73ef41",
   "metadata": {},
   "outputs": [
    {
     "data": {
      "text/plain": [
       "3.14159"
      ]
     },
     "execution_count": 35,
     "metadata": {},
     "output_type": "execute_result"
    }
   ],
   "source": [
    "pi = 3.14159\n",
    "pi"
   ]
  },
  {
   "cell_type": "markdown",
   "id": "2957c1cf-6352-4e1b-850b-d98dc883d7b4",
   "metadata": {},
   "source": [
    "### Exercise 26:\n",
    "Create two variables `length` and `width`, assign them values, and calculate the area of a rectangle."
   ]
  },
  {
   "cell_type": "code",
   "execution_count": 39,
   "id": "6c7a0b7c-2834-4090-af99-eb36ef7b102f",
   "metadata": {},
   "outputs": [
    {
     "data": {
      "text/plain": [
       "15"
      ]
     },
     "execution_count": 39,
     "metadata": {},
     "output_type": "execute_result"
    }
   ],
   "source": [
    "length = 5\n",
    "width = 3\n",
    "area = length * width\n",
    "area"
   ]
  },
  {
   "cell_type": "markdown",
   "id": "73c1d6be-770c-4ae9-9106-8abe6965ac3c",
   "metadata": {},
   "source": [
    "### Exercise 27:\n",
    "Assign a negative number to a variable `negative_value`."
   ]
  },
  {
   "cell_type": "code",
   "execution_count": 38,
   "id": "f7899aa7-0afb-49d5-b295-5464566988df",
   "metadata": {},
   "outputs": [
    {
     "data": {
      "text/plain": [
       "-42"
      ]
     },
     "execution_count": 38,
     "metadata": {},
     "output_type": "execute_result"
    }
   ],
   "source": [
    "negative_value = -42\n",
    "negative_value"
   ]
  },
  {
   "cell_type": "markdown",
   "id": "e486c18d-de62-4e85-8f13-3ed2a8b805cc",
   "metadata": {},
   "source": [
    "### Exercise 28:\n",
    "Assign a string containing a special character (e.g., \"Hello, World!\") to a variable `greeting`.\n"
   ]
  },
  {
   "cell_type": "code",
   "execution_count": 37,
   "id": "b32f5702-1c12-4df8-8c78-1e26392bb472",
   "metadata": {},
   "outputs": [
    {
     "data": {
      "text/plain": [
       "'Hello, World!'"
      ]
     },
     "execution_count": 37,
     "metadata": {},
     "output_type": "execute_result"
    }
   ],
   "source": [
    "greeting = \"Hello, World!\"\n",
    "greeting"
   ]
  },
  {
   "cell_type": "markdown",
   "id": "3618a00f-dc7c-420a-b830-f64789d6391c",
   "metadata": {},
   "source": [
    "### Exercise 29:\n",
    "Create a variable `population` and assign it a large integer value (in billions)."
   ]
  },
  {
   "cell_type": "code",
   "execution_count": 40,
   "id": "16fd9967-6500-465e-a24b-05960227c021",
   "metadata": {},
   "outputs": [
    {
     "data": {
      "text/plain": [
       "7800000000"
      ]
     },
     "execution_count": 40,
     "metadata": {},
     "output_type": "execute_result"
    }
   ],
   "source": [
    "population = 7800000000  # 7.8 billion\n",
    "population"
   ]
  },
  {
   "cell_type": "markdown",
   "id": "847235ff-75dd-4cbe-9168-32f15a99dab2",
   "metadata": {},
   "source": [
    "### Exercise 30:\n",
    "Use a variable to store the result of raising `2` to the power of `8`."
   ]
  },
  {
   "cell_type": "code",
   "execution_count": 41,
   "id": "5a6fe256-1888-4689-93ab-1c477a17f2f6",
   "metadata": {},
   "outputs": [
    {
     "data": {
      "text/plain": [
       "256"
      ]
     },
     "execution_count": 41,
     "metadata": {},
     "output_type": "execute_result"
    }
   ],
   "source": [
    "power_result = 2 ** 8\n",
    "power_result"
   ]
  },
  {
   "cell_type": "markdown",
   "id": "957911cf-6596-4587-bfdd-a0f31cc44737",
   "metadata": {},
   "source": [
    "### Exercise 31:\n",
    "Assign a list of your favorite fruits to a variable `fruits`."
   ]
  },
  {
   "cell_type": "code",
   "execution_count": 42,
   "id": "7c8babc4-ca46-4f55-acf0-0a9905d6c48b",
   "metadata": {},
   "outputs": [
    {
     "data": {
      "text/plain": [
       "['apple', 'banana', 'strawberry', 'mango']"
      ]
     },
     "execution_count": 42,
     "metadata": {},
     "output_type": "execute_result"
    }
   ],
   "source": [
    "fruits = [\"apple\", \"banana\", \"strawberry\", \"mango\"]\n",
    "fruits"
   ]
  },
  {
   "cell_type": "markdown",
   "id": "ad140537-9cda-4a0e-bf7f-53f59ac657da",
   "metadata": {},
   "source": [
    "### Exercise 32:\n",
    "Assign a tuple of three numbers to a variable `coordinates`."
   ]
  },
  {
   "cell_type": "code",
   "execution_count": 43,
   "id": "c98e030c-83f4-45e9-a0df-71ad9db510c6",
   "metadata": {},
   "outputs": [
    {
     "data": {
      "text/plain": [
       "(10, 20, 30)"
      ]
     },
     "execution_count": 43,
     "metadata": {},
     "output_type": "execute_result"
    }
   ],
   "source": [
    "coordinates = (10, 20, 30)\n",
    "coordinates"
   ]
  },
  {
   "cell_type": "markdown",
   "id": "e9198fa2-4977-4600-9a55-99918b8d59f8",
   "metadata": {},
   "source": [
    "### Exercise 33:\n",
    "Assign a dictionary with keys `name` and `age` to a variable `person`."
   ]
  },
  {
   "cell_type": "code",
   "execution_count": 44,
   "id": "95ca3738-8801-482f-813f-65ddbfbbdf16",
   "metadata": {},
   "outputs": [
    {
     "data": {
      "text/plain": [
       "{'name': 'Alice', 'age': 30}"
      ]
     },
     "execution_count": 44,
     "metadata": {},
     "output_type": "execute_result"
    }
   ],
   "source": [
    "person = {\"name\": \"Alice\", \"age\": 30}\n",
    "person"
   ]
  },
  {
   "cell_type": "markdown",
   "id": "a8f658ca-dc4b-4f72-9b91-fadc7f055b1b",
   "metadata": {},
   "source": [
    "### Exercise 34:\n",
    "Use variables to store the sum of two floating-point numbers.\n"
   ]
  },
  {
   "cell_type": "code",
   "execution_count": 45,
   "id": "22d6a2f7-90af-4f78-ab4e-65b959dbbb0f",
   "metadata": {},
   "outputs": [
    {
     "data": {
      "text/plain": [
       "6.2"
      ]
     },
     "execution_count": 45,
     "metadata": {},
     "output_type": "execute_result"
    }
   ],
   "source": [
    "float1 = 3.5\n",
    "float2 = 2.7\n",
    "float_sum = float1 + float2\n",
    "float_sum"
   ]
  },
  {
   "cell_type": "markdown",
   "id": "4498112b-e92e-41ac-b267-a322650a615b",
   "metadata": {},
   "source": [
    "### Exercise 35:\n",
    "Create a variable `is_sunny` and assign it the result of a comparison `10 > 5`."
   ]
  },
  {
   "cell_type": "code",
   "execution_count": 46,
   "id": "23ee0d07-8125-48da-9c32-0574377157ab",
   "metadata": {},
   "outputs": [
    {
     "data": {
      "text/plain": [
       "True"
      ]
     },
     "execution_count": 46,
     "metadata": {},
     "output_type": "execute_result"
    }
   ],
   "source": [
    "is_sunny = 10 > 5\n",
    "is_sunny"
   ]
  },
  {
   "cell_type": "markdown",
   "id": "f3647e85-a613-461c-976d-6c18a7581145",
   "metadata": {},
   "source": [
    "### Exercise 36:\n",
    "Assign a string and an integer to two different variables, then print both on one line."
   ]
  },
  {
   "cell_type": "code",
   "execution_count": 47,
   "id": "29e89994-be9d-407c-bb8e-998cca2b2590",
   "metadata": {},
   "outputs": [
    {
     "name": "stdout",
     "output_type": "stream",
     "text": [
      "The answer is 42\n"
     ]
    }
   ],
   "source": [
    "message = \"The answer is\"\n",
    "number = 42\n",
    "print(message, number)"
   ]
  },
  {
   "cell_type": "markdown",
   "id": "4c330722-68da-4177-9bab-56e4695ae3c3",
   "metadata": {},
   "source": [
    "### Exercise 37:\n",
    "Reassign a variable that originally held a number to a boolean value."
   ]
  },
  {
   "cell_type": "code",
   "execution_count": 48,
   "id": "8bf3d308-c6b9-405e-8f5e-c4b7fbfb65e7",
   "metadata": {},
   "outputs": [
    {
     "data": {
      "text/plain": [
       "True"
      ]
     },
     "execution_count": 48,
     "metadata": {},
     "output_type": "execute_result"
    }
   ],
   "source": [
    "var = 100\n",
    "var = True\n",
    "var"
   ]
  },
  {
   "cell_type": "markdown",
   "id": "8b52d125-7e9b-4fd8-8272-fa79f15bc7f2",
   "metadata": {},
   "source": [
    "### Exercise 38:\n",
    "Create a variable `is_weekend` and assign it the result of `False`."
   ]
  },
  {
   "cell_type": "code",
   "execution_count": 49,
   "id": "f44f093b-f494-48e9-880a-0928741265ac",
   "metadata": {},
   "outputs": [
    {
     "data": {
      "text/plain": [
       "False"
      ]
     },
     "execution_count": 49,
     "metadata": {},
     "output_type": "execute_result"
    }
   ],
   "source": [
    "is_weekend = False\n",
    "is_weekend"
   ]
  },
  {
   "cell_type": "markdown",
   "id": "38973bfc-38ba-443b-a4e6-1b04ce9c7b77",
   "metadata": {},
   "source": [
    "### Exercise 39:\n",
    "Assign a multi-line string to a variable `description`."
   ]
  },
  {
   "cell_type": "code",
   "execution_count": 50,
   "id": "dfd87419-6579-4b5e-af3b-27aa6ae5eb58",
   "metadata": {},
   "outputs": [
    {
     "data": {
      "text/plain": [
       "\"This is a multi-line string.\\nIt spans across multiple lines.\\nIt's useful for longer text content.\""
      ]
     },
     "execution_count": 50,
     "metadata": {},
     "output_type": "execute_result"
    }
   ],
   "source": [
    "description = \"\"\"This is a multi-line string.\n",
    "It spans across multiple lines.\n",
    "It's useful for longer text content.\"\"\"\n",
    "description"
   ]
  },
  {
   "cell_type": "markdown",
   "id": "cb7baba5-6c1b-4b4f-b382-c31c7f8ecb9e",
   "metadata": {},
   "source": [
    "### Exercise 40:\n",
    "Use variables to store the result of the absolute value of `-25`."
   ]
  },
  {
   "cell_type": "code",
   "execution_count": 51,
   "id": "338d4039-0508-44ff-ae91-5bc79c0af1d4",
   "metadata": {},
   "outputs": [
    {
     "data": {
      "text/plain": [
       "25"
      ]
     },
     "execution_count": 51,
     "metadata": {},
     "output_type": "execute_result"
    }
   ],
   "source": [
    "abs_value = abs(-25)\n",
    "abs_value"
   ]
  },
  {
   "cell_type": "markdown",
   "id": "db9e94a5-5af7-4e28-a2d4-1525d2a6dade",
   "metadata": {},
   "source": [
    "### Exercise 41:\n",
    "Assign the result of a floor division `100 // 6` to a variable `floor_div_result`."
   ]
  },
  {
   "cell_type": "code",
   "execution_count": 52,
   "id": "fa7e9b14-7530-41d1-92b2-029aabb7048e",
   "metadata": {},
   "outputs": [
    {
     "data": {
      "text/plain": [
       "16"
      ]
     },
     "execution_count": 52,
     "metadata": {},
     "output_type": "execute_result"
    }
   ],
   "source": [
    "floor_div_result = 100 // 6\n",
    "floor_div_result"
   ]
  },
  {
   "cell_type": "markdown",
   "id": "e7e2420f-0c54-45ce-a053-8603b8b6bc20",
   "metadata": {},
   "source": [
    "### Exercise 42:\n",
    "Assign the result of adding a floating-point number to an integer to a variable `mixed_sum`."
   ]
  },
  {
   "cell_type": "code",
   "execution_count": 53,
   "id": "e4a6b4e5-4f03-4325-ae2b-4a64b4ec6f38",
   "metadata": {},
   "outputs": [
    {
     "data": {
      "text/plain": [
       "15.5"
      ]
     },
     "execution_count": 53,
     "metadata": {},
     "output_type": "execute_result"
    }
   ],
   "source": [
    "integer_num = 10\n",
    "float_num = 5.5\n",
    "mixed_sum = integer_num + float_num\n",
    "mixed_sum"
   ]
  },
  {
   "cell_type": "markdown",
   "id": "76dcdbae-7308-487e-9a7b-cdf913e8129f",
   "metadata": {},
   "source": [
    "### Exercise 43:\n",
    "Use variables to store a combination of string concatenation."
   ]
  },
  {
   "cell_type": "code",
   "execution_count": 54,
   "id": "e368c546-4e97-4225-a068-cd5f8549d9d7",
   "metadata": {},
   "outputs": [
    {
     "data": {
      "text/plain": [
       "'Hello World'"
      ]
     },
     "execution_count": 54,
     "metadata": {},
     "output_type": "execute_result"
    }
   ],
   "source": [
    "str1 = \"Hello\"\n",
    "str2 = \"World\"\n",
    "combined_str = str1 + \" \" + str2\n",
    "combined_str"
   ]
  },
  {
   "cell_type": "markdown",
   "id": "848b3137-df0c-4070-9ce4-ade2a3c67dbc",
   "metadata": {},
   "source": [
    "### Exercise 44:\n",
    "Assign an empty list to a variable `empty_list`."
   ]
  },
  {
   "cell_type": "code",
   "execution_count": 55,
   "id": "62d49849-2c79-41f1-9a10-96ec11ef6305",
   "metadata": {},
   "outputs": [
    {
     "data": {
      "text/plain": [
       "[]"
      ]
     },
     "execution_count": 55,
     "metadata": {},
     "output_type": "execute_result"
    }
   ],
   "source": [
    "empty_list = []\n",
    "empty_list"
   ]
  },
  {
   "cell_type": "markdown",
   "id": "531a4c68-b79a-4b8d-95e3-d33b73526535",
   "metadata": {},
   "source": [
    "### Exercise 45:\n",
    "Assign a boolean value based on the comparison of two variables `a = 10` and `b = 15`.\n"
   ]
  },
  {
   "cell_type": "code",
   "execution_count": 56,
   "id": "f2e767ed-82ab-452a-a41f-11f876760ed3",
   "metadata": {},
   "outputs": [
    {
     "data": {
      "text/plain": [
       "True"
      ]
     },
     "execution_count": 56,
     "metadata": {},
     "output_type": "execute_result"
    }
   ],
   "source": [
    "a = 10\n",
    "b = 15\n",
    "comparison_result = a < b\n",
    "comparison_result"
   ]
  },
  {
   "cell_type": "markdown",
   "id": "7914a4eb-296a-47a5-8f96-6f88f8bb36b3",
   "metadata": {},
   "source": [
    "### Exercise 46:\n",
    "Assign a long sentence to a variable and count its characters using `len()`."
   ]
  },
  {
   "cell_type": "code",
   "execution_count": 57,
   "id": "cfe8ed6c-0698-41fa-829f-2fb89f5669b4",
   "metadata": {},
   "outputs": [
    {
     "data": {
      "text/plain": [
       "153"
      ]
     },
     "execution_count": 57,
     "metadata": {},
     "output_type": "execute_result"
    }
   ],
   "source": [
    "long_sentence = \"This is a rather long sentence that will be used to demonstrate how to count the number of characters in a string using Python's built-in len() function.\"\n",
    "char_count = len(long_sentence)\n",
    "char_count"
   ]
  },
  {
   "cell_type": "markdown",
   "id": "a834918c-459b-4832-abc4-24be2f10cabb",
   "metadata": {},
   "source": [
    "### Exercise 47:\n",
    "Assign a fractional result `7 / 3` to a variable `division_result`.\n"
   ]
  },
  {
   "cell_type": "code",
   "execution_count": 58,
   "id": "ca76bede-00e3-49ec-8c6a-d732c2d3c874",
   "metadata": {},
   "outputs": [
    {
     "data": {
      "text/plain": [
       "2.3333333333333335"
      ]
     },
     "execution_count": 58,
     "metadata": {},
     "output_type": "execute_result"
    }
   ],
   "source": [
    "division_result = 7 / 3\n",
    "division_result"
   ]
  },
  {
   "cell_type": "markdown",
   "id": "e65e8843-06fa-474e-a6fe-17014da32532",
   "metadata": {},
   "source": [
    "### Exercise 48:\n",
    "Create a variable `speed` and assign it the value of 100 kilometers per hour."
   ]
  },
  {
   "cell_type": "code",
   "execution_count": 59,
   "id": "1b4ab5fe-dbc8-49ad-9ce8-0b7731142896",
   "metadata": {},
   "outputs": [
    {
     "data": {
      "text/plain": [
       "100"
      ]
     },
     "execution_count": 59,
     "metadata": {},
     "output_type": "execute_result"
    }
   ],
   "source": [
    "speed = 100  # km/h\n",
    "speed"
   ]
  },
  {
   "cell_type": "markdown",
   "id": "2a9582ff-5c72-401f-973f-85ddb47e116e",
   "metadata": {},
   "source": [
    "### Exercise 49:\n",
    "Assign a multi-variable equation like `y = 3x + 5` where `x = 4` to a variable `y`."
   ]
  },
  {
   "cell_type": "code",
   "execution_count": 60,
   "id": "4db218f3-cb2c-4a77-845d-2385276171b7",
   "metadata": {},
   "outputs": [
    {
     "data": {
      "text/plain": [
       "17"
      ]
     },
     "execution_count": 60,
     "metadata": {},
     "output_type": "execute_result"
    }
   ],
   "source": [
    "x = 4\n",
    "y = 3 * x + 5\n",
    "y"
   ]
  },
  {
   "cell_type": "markdown",
   "id": "72088005-da15-463d-84c0-d41384d0ecdc",
   "metadata": {},
   "source": [
    "### Exercise 50:\n",
    "Use variables to calculate and store the average of three numbers."
   ]
  },
  {
   "cell_type": "code",
   "execution_count": 61,
   "id": "7e56211e-37e7-4735-b86a-1e5783084697",
   "metadata": {},
   "outputs": [
    {
     "data": {
      "text/plain": [
       "15.0"
      ]
     },
     "execution_count": 61,
     "metadata": {},
     "output_type": "execute_result"
    }
   ],
   "source": [
    "num1 = 10\n",
    "num2 = 15\n",
    "num3 = 20\n",
    "average = (num1 + num2 + num3) / 3\n",
    "average"
   ]
  }
 ],
 "metadata": {
  "kernelspec": {
   "display_name": "Python 3 (ipykernel)",
   "language": "python",
   "name": "python3"
  },
  "language_info": {
   "codemirror_mode": {
    "name": "ipython",
    "version": 3
   },
   "file_extension": ".py",
   "mimetype": "text/x-python",
   "name": "python",
   "nbconvert_exporter": "python",
   "pygments_lexer": "ipython3",
   "version": "3.11.7"
  }
 },
 "nbformat": 4,
 "nbformat_minor": 5
}
